{
  "nbformat": 4,
  "nbformat_minor": 0,
  "metadata": {
    "colab": {
      "provenance": []
    },
    "kernelspec": {
      "name": "python3",
      "display_name": "Python 3"
    },
    "language_info": {
      "name": "python"
    }
  },
  "cells": [
    {
      "cell_type": "code",
      "source": [
        "! pip install colorama"
      ],
      "metadata": {
        "colab": {
          "base_uri": "https://localhost:8080/"
        },
        "id": "AB7j0qQPvWZq",
        "outputId": "8e728ba9-22ee-4665-fc48-06749dd646f9"
      },
      "execution_count": 1,
      "outputs": [
        {
          "output_type": "stream",
          "name": "stdout",
          "text": [
            "Looking in indexes: https://pypi.org/simple, https://us-python.pkg.dev/colab-wheels/public/simple/\n",
            "Collecting colorama\n",
            "  Downloading colorama-0.4.6-py2.py3-none-any.whl (25 kB)\n",
            "Installing collected packages: colorama\n",
            "Successfully installed colorama-0.4.6\n"
          ]
        }
      ]
    },
    {
      "cell_type": "code",
      "execution_count": 7,
      "metadata": {
        "colab": {
          "base_uri": "https://localhost:8080/"
        },
        "id": "v1u7L_b3vQ4O",
        "outputId": "13bcf264-6d10-493b-8434-092d8f8ca4ab"
      },
      "outputs": [
        {
          "output_type": "stream",
          "name": "stdout",
          "text": [
            "\u001b[34m 7 \u001b[37m\n"
          ]
        }
      ],
      "source": [
        "\n",
        "import random\n",
        "from colorama import Fore\n",
        "\n",
        "\"\"\" the goal is to build a function that generate an integer from 1 to 7 with equal probability\"\"\" \n",
        "\n",
        "# the following function outputs an int from 1 to 5 with equal proba\n",
        "def rand5():\n",
        "    return random.randint(1,5)\n",
        "\n",
        "def rand7():\n",
        "    # the values that x can take are from 1 to 25\n",
        "    x = 5 * rand5() + rand5() - 5\n",
        "\n",
        "    # reject numbers greater than 21\n",
        "    while True:\n",
        "        if x < 22:\n",
        "            break\n",
        "    # the operation x % 7 returns an int from 0 to 6 WITH EQUAL PROBABILITY\n",
        "    y = x % 7\n",
        "    \n",
        "    # shiftting the range of the output by one so that it would be from 1 to 7 and with equal proba (3/21 for each possible integer) \n",
        "    return (y + 1)\n",
        "\n",
        "print(Fore.BLUE, str(rand7()), Fore.WHITE)\n"
      ]
    }
  ]
}